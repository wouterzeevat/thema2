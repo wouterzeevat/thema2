{
 "cells": [
  {
   "cell_type": "markdown",
   "metadata": {},
   "source": [
    "# Installation\n",
    "\n",
    "This short document describes how to get the required software (mainly, this Python package), configure it and run one of the included examples on the *Bioinformatics* computer network. At the bottom of the document is a section on how to do this on your own computer.\n",
    "\n",
    "## Getting the Python package\n",
    "\n",
    "The **pypovray** package is available from the software *repository* Bitbucket at [https://bitbucket.org/mkempenaar/pypovray](https://bitbucket.org/mkempenaar/pypovray). This repository is used to store the software and track all the updates made to it. This means that as a user you can easily keep the package up to date or even propose changes and additions. \n",
    "\n",
    "The repository uses the **Git** software to synchronize changes between developer and the online version and it allows the user to download ('*clone*') the complete software. \n",
    "\n",
    "It is adviced to keep all work done for this project in a single folder, so lets create a new folder (maybe as a sub-folder of `~/Themas/Thema02` ?) where we will store the downloaded software:\n",
    "\n",
    "    mkdir project\n",
    "    cd project\n",
    "\n",
    "The following command will retrieve a full copy of the software package in the `project` folder named **pypovray**:\n",
    "\n",
    "    git clone https://bitbucket.org/mkempenaar/pypovray.git\n",
    "\n",
    "This command will show something similar to:\n",
    "\n",
    "    Cloning into 'pypovray'...\n",
    "    remote: Counting objects: 146, done.\n",
    "    remote: Compressing objects: 100% (139/139), done.\n",
    "    remote: Total 146 (delta 62), reused 0 (delta 0)\n",
    "    Receiving objects: 100% (146/146), 31.65 MiB | 834.00 KiB/s, done.\n",
    "    Resolving deltas: 100% (62/62), done.\n",
    "    Checking connectivity... done.\n",
    "\n",
    "indicating that we succesfully got everything we need. Next, move to the newly created `pypovray` folder (`cd pypovray`) and type:\n",
    "\n",
    "    git status\n",
    "\n",
    "which will show if you have the latest version of the package. Of course, a freshly *cloned* project will always be up-to-date, but remember this command for the future. We might announce updates that you can download with:\n",
    "\n",
    "    git pull\n",
    "\n",
    "#### Downloading Requirement(s)\n",
    "\n",
    "The `pypovray` folder contains *almost* everything we need, except for one Python package called `vapory`. Here is a [nice informative page](http://zulko.github.io/blog/2014/11/13/things-you-can-do-with-python-and-pov-ray/) about this package and what you can (and partially will) do with it. To install this package, simply execute the `setup.sh` script:\n",
    "\n",
    "    sh setup.sh\n",
    "  \n",
    "Just for completeness, this will do another `git clone` of the Vapory package [from github](https://github.com/Zulko/vapory) and add this to the `vapory/` folder in your project.\n",
    "\n",
    "#### Downloading Additional Python libraries\n",
    "The programs we are going to run through Python also need additional Python libraries to work. These libraries are not part of the standard Python installation and are not installed by default. To install these simply run the following command from the `pypovray` folder.\n",
    "\n",
    "    pip3 install -r requirements.txt\n",
    "\n",
    "\n",
    "# Configuring\n",
    "\n",
    "There are a few basic settings we need to change before we are able to run the software. The Python package uses *initialization files* (`.ini`) to load a variety of settings using Python's [`configparser`](https://docs.python.org/3/library/configparser.html) library. There are two configuration files included with the project; [`default.ini`](https://bitbucket.org/mkempenaar/pypovray/raw/master/default.ini) and [`prototype.ini`](https://bitbucket.org/mkempenaar/pypovray/raw/master/prototype.ini). Both files contain exactly the same options but with different values. The idea is that you can generally use the `prototype.ini` file which creates smaller output images and animations with lower quality to vastly increase rendering speed while the `default.ini` file creates high-quality output which can take a long time to render. Note that comment lines in these files begin with a semicolon '`;`'.\n",
    "\n",
    "Let's take a look at the first setting that we need to change by opening the `default.ini` file in an editor of your choice. Line **6** sets the **AppLocation** folder using the *absolute* (complete) path to your previously created `project` folder, i.e.: `/homes/user/Themas/Thema02/project` (do not add a trailing slash). Note that if you want to use the `prototype.ini` file, you need to change the setting there too.\n",
    "\n",
    "Move on to the *Running an example* section below or read on for further details of the configuration file.\n",
    "\n",
    "## Sections\n",
    "\n",
    "Both configuration files are split into four sections which are detailed below.\n",
    "\n",
    "### GENERAL\n",
    "\n",
    "The general-settings section contains settings for paths:\n",
    "\n",
    "| Setting | Meaning |\n",
    "|:--------------:|:-------------------------------------------------------------------------------------------------------------------------------------------------------------------------------------------------------------------------------------------------------------------------------------------------------------------------:|\n",
    "| AppLocation | The absolute path to the software location; the folder where the repository is *cloned* or the ZIP file extracted |\n",
    "| OutputPrefix | All output files (be it images located in the `OutputImageDir` or a created video in the `OutputMovieDir` folder) are named with this value as prefix. Default this is `simulation` which creates images like `simulation_000.png`, `simulation_001.png`, etc. and video files like `simulation.mp4` or `simulation.gif`. |\n",
    "| OutputImageDir | All (intermediate) image files are placed in this folder. Note that the value references the `AppLocation` setting indicating a subfolder from where the project is located / cloned. Note that when creating a video as output, this folder **will** be emptied beforehand. |\n",
    "| OutputMovieDir | All resulting video files are placed in this folder. Note that when creating an **MP4** output file, you will need to rename or remove the previous file since it will not be overwritten by default. |\n",
    "| LogLevel | The level of information shown when running your application. Possible options are `DEBUG`, `INFO` (default), `WARNING`, `ERROR` and `CRITICAL`. |\n",
    "### RENDER\n",
    "\n",
    "Settings in this section control how the image (frame) is rendered:\n",
    "\n",
    "| Setting | Meaning |\n",
    "|:-----------:|:-----------------------------------------------------------------------------------------------------------------------------------------------------------------------------------------------------------------------------------------------------------------------------------------------------------------------------------------------------------------------------------------------------------------------------------------------------------------------------------------------------------------------------------:|\n",
    "| ImageWidth | The width in pixels of the resulting image |\n",
    "| ImageHeight | The height in pixels of the resulting image |\n",
    "| Quality | The quality of the resulting image. This is a *Povray* setting so please refer to the [povray manual section 2.1.2.8.1](http://www.povray.org/documentation/view/3.6.1/223/) for details on how to choose an appropriate (integer) value. |\n",
    "| AntiAlias | Another *Povray* setting controlling the amount of anti-aliasing to apply to the output image. The [povray manual, section 2.1.2.8.4](http://www.povray.org/documentation/view/3.6.1/223/) describes the Anti-Aliasing feature in-depth, but this setting only controls the `Antialias_Threshold` setting which can be set to 3.0 (no anti-aliasing) or to any smaller number to enable anti-aliasing and control the amount of super-sampling. Practically, it is disable for prototyping and set to 0.01 for the final rendering. |\n",
    "| UsePool | A boolean setting that can be used to force multi-threaded rendering. As this setting has some implications, see the [PyPovray Simulation - part 2](http://nbviewer.jupyter.org/urls/bitbucket.org/mkempenaar/pypovray/raw/master/manual/pypovray_simulation_2.ipynb) manual for further details. |\n",
    "| Workers | The amount of *threads* to use in the pool, often set to the number of CPU-cores in the PC.. See the *UsePool* setting above. |\n",
    "\n",
    "### SCENE\n",
    "\n",
    "The settings in this section specify how the final movie is created:\n",
    "\n",
    "| Setting | Meaning |\n",
    "|:---------:|:-------------------------------------------------------------------------------------------------------------------------------------------------------------------------------------------------------------------------------------------------------------------------------------------------------:|\n",
    "| Duration | The duration in seconds of the final output movie. |\n",
    "| RenderFPS | The Frames Per Second (FPS) of the final output movie.  |\n",
    "| FrameTime | The time in seconds that each frame takes. If you have a scene taking 1 second (`Duration`) at 25 FPS (`RenderFPS`) each frame will take 1 /  25 = **0.04** seconds. The actual value of this setting in this case is actually `1 / 25` and can be converted in Python to 0.04 using `eval(FrameTime)`. |\n",
    "| NumberFrames | Another pre-calculated value showing the total number of frames to render, use with `eval(NumberFrames)`. |\n",
    "| MovieFPS | The `MovieFPS` is used by the `ffmpeg` software responsible for creating *MP4* movie files, independent of the `RenderFPS` setting. |\n",
    "\n",
    "### OTHER\n",
    "\n",
    "Further fine-tuning options can be found in this section, leaving them at their default value is perfectly fine:\n",
    "\n",
    "| Setting | Meaning |\n",
    "|:---------:|:-------------------------------------------------------------------------------------------------------------------------------------------------------------------------------------------------------------------------------------------------------------------------------------------------------:|\n",
    "| ShowWindow | Running povray on Linux results in a single popup-window showing the rendered output when this is set to `True`. While it might be useful when only rendering a single image, when rendering a simulation, it will show a new popup for each frame which makes using the computer for anything else during rendering rather difficult. |\n",
    "| RemoveTempFiles | The `vapory` library translates our Python code into Povray code and saves this file to a temporary location, in a new folder. This results in a lot of folders created during a simulation and setting this to `True` will make sure these folders are deleted after each frame finished rendering.  |\n",
    "\n",
    "## Using the Settings in Python\n",
    "\n",
    "While not relevant for the installing and configuring subject, we briefly show how to actually use settings from the configuration file and how to switch configuration files in your own code. The following two lines of code shows how to import the settings and print a few of them:"
   ]
  },
  {
   "cell_type": "code",
   "execution_count": 1,
   "metadata": {},
   "outputs": [
    {
     "name": "stdout",
     "output_type": "stream",
     "text": [
      "Image resolution: 1600.0 x 1200.0\n",
      "120.0 frames in total (0.05s/frame)\n"
     ]
    }
   ],
   "source": [
    "from pypovray import SETTINGS\n",
    "print('Image resolution:', SETTINGS.ImageWidth, 'x', SETTINGS.ImageHeight)\n",
    "print(SETTINGS.Duration * SETTINGS.RenderFPS, ' frames in total (',\n",
    "      eval(SETTINGS.FrameTime), 's/frame)', sep='')"
   ]
  },
  {
   "cell_type": "markdown",
   "metadata": {},
   "source": [
    "This example shows that we need to import `SETTINGS` from the `pypovray` package. This object holds all defined settings and their values as so called *`attributes`*. To access a setting (i.e. get its *value*) we use the Python [dot notation](http://reeborg.ca/docs/oop_py_en/oop.html) such as `SETTINGS.ImageWidth` which, when using the `default.ini` file gives us the value `1600.0` as demonstrated above.\n",
    "\n",
    "Actually, you can also just use `print(SETTINGS)` to print all loaded settings."
   ]
  },
  {
   "cell_type": "markdown",
   "metadata": {},
   "source": [
    "One thing you might have noticed is that we do not actually *use* the sections that are defined in the configuration files. For us it does not matter where a setting is defined in these files, we can just use the dot notation to get its value. This does mean that setting names should be unique, otherwise only the last definition is used.\n",
    "\n",
    "To load a different configuration file in your script, use the following code:"
   ]
  },
  {
   "cell_type": "code",
   "execution_count": 3,
   "metadata": {},
   "outputs": [
    {
     "name": "stdout",
     "output_type": "stream",
     "text": [
      "Image resolution: 600.0 x 480.0\n"
     ]
    }
   ],
   "source": [
    "from pypovray import load_config\n",
    "# Now we overwrite the settings by loading settings from a different file\n",
    "SETTINGS = load_config('prototype.ini')\n",
    "# Print the changed resolution\n",
    "print('Image resolution:', SETTINGS.ImageWidth, 'x', SETTINGS.ImageHeight)"
   ]
  },
  {
   "cell_type": "markdown",
   "metadata": {},
   "source": [
    "This requires us to load another function from the `pypovray` package named `load_config` which takes the location of an `.ini` file. You can easily replace this '*hardcoded*' file name by a command-line argument so that you can dynamically switch when running your script.\n",
    "\n",
    "## Running an example\n",
    "\n",
    "All other dependencies are already present on our internal network so there is no need to download any other software. If you look at the contents of your `pypovray` folder you will see a number of Python (`.py`) files. To run an example that creates a single image, type the following in the terminal:\n",
    "\n",
    "    python3 atp_to_adp.py\n",
    "\n",
    "This will print a few lines of text to the screen depending on your `LogLevel` setting and it will take about 10 seconds in total to run. If everything went well, the script created output in the form of an image file named `simulation_000.png` located in the `images` folder: <img src=\"https://bitbucket.org/mkempenaar/pypovray/raw/master/manual/files/atp_to_adp.png\" width=400>\n",
    "\n",
    "# Clean Installation\n",
    "\n",
    "This is a brief documentation on what is needed to run the software on a system other than those in the Bioinformatics network. How to actually install the requirements other than the Python packages is ***not*** given; refer to the documentation of these (free) software packages for specific installation instructions for your operating system.\n",
    "\n",
    "## Software requirements\n",
    "\n",
    "The following software is required:\n",
    "\n",
    "* Python3: On Windows, you could use [`Anaconda`](https://www.continuum.io/anaconda-overview) which includes Python and a number of packages you will need. For OS X or macOS you can also use this but using [`homebrew`](http://brew.sh) is advised (`brew install python3`)\n",
    "* FFmpeg: Downloadable from [http://ffmpeg.org](http://ffmpeg.org) for most operating systems. The `ffmpeg` command should be able to run in the terminal (`sudo apt-get install ffmpeg` on Debian/Ubuntu or `brew install ffmpeg` on macOS if homebrew is installed).\n",
    "* Povray: The [Povray](http://www.povray.org/download/) website offers downloads for Windows and [linux](http://www.povray.org/download/linux.php). However for Linux (Ubuntu, Debian) povray is available through the OS *package-manager*, i.e. `sudo apg-get install povray`. `homebrew` for OS X or macOS also includes a `povray` package installable with `brew install povray`.\n",
    "\n",
    "Besides the above software, a number of Python packages are also required. Please read the excellent *how-to* on Python [*`Virtual Environments`*](http://docs.python-guide.org/en/latest/dev/virtualenvs/) before proceeding (the use of this technique is optional however). The required packages are listed in the [`requirements.txt`](https://bitbucket.org/mkempenaar/pypovray/raw/master/requirements.txt) file and the easiest method of installing all of them is by using the Python package manager **`pip`**:\n",
    "\n",
    "    pip3 install -r requirements.txt\n",
    "    \n",
    "If you only have Python3 installed or when you are using a *virtual environment*, you can use `pip` instead of `pip3`. There are situations where this fails, installing each package separately might fix this. Install the following packages with `pip3 install <package_name>`, i.e. `pip3 install moviepy`:\n",
    "\n",
    "* `ffmpy`\n",
    "* `moviepy`\n",
    "* `numpy`\n",
    "* `scipy`\n",
    "* `pathos`\n",
    "\n",
    "Once you have these requirements installed, you can proceed with the *Getting the Python package* section at the top of this page."
   ]
  }
 ],
 "metadata": {
  "kernelspec": {
   "display_name": "Python 3",
   "language": "python",
   "name": "python3"
  },
  "language_info": {
   "codemirror_mode": {
    "name": "ipython",
    "version": 3
   },
   "file_extension": ".py",
   "mimetype": "text/x-python",
   "name": "python",
   "nbconvert_exporter": "python",
   "pygments_lexer": "ipython3",
   "version": "3.6.5"
  },
  "pycharm": {
   "stem_cell": {
    "cell_type": "raw",
    "source": [],
    "metadata": {
     "collapsed": false
    }
   }
  }
 },
 "nbformat": 4,
 "nbformat_minor": 1
}