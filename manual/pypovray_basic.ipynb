{
 "cells": [
  {
   "cell_type": "markdown",
   "metadata": {},
   "source": [
    "# Basic PyPovray Simulation Example\n",
    "\n",
    "This document describes the most basic usage of the **pypovray** Python package that is provided for this course. This package is used to render (*draw*) objects and create animations/ simulations using the Povray ray-tracer (http://www.povray.org). Please briefly read the [Wikipedia](https://en.wikipedia.org/wiki/Ray_tracing_(graphics) document for a basic understanding of ray-tracing as it describes the elements we need to create an image (i.e. a camera, lightsource, object).\n",
    "\n",
    "## Using the `PyPovray` package\n",
    "<!--\n",
    "The code included in this document requires a number of Python packages which are listed in the [requirements.txt](https://bitbucket.org/mkempenaar/pypovray/raw/master/requirements.txt) file available on the `pypovray` repository.\n",
    "This particular example only uses a few of those dependencies, the first one being the [`vapory`](https://github.com/Zulko/vapory) library.-->\n",
    "The goal of the package is providing a way of creating 'objects' to render in our scene (simulation later on) and to instruct the `Povray` program to actually render an image for us. This section describes two Python packages that we need to import; `vapory` for creating objects and `pypovray` for telling Povray what to do with our scene.\n",
    "\n",
    "Lets see how we use the `vapory` package to import the `Sphere` object for drawing a - you guessed it - *sphere*. The other import is a `Scene` object that can be described as a 'container' that we put all objects in to render (i.e. a camera, lightsources and for this example, a sphere). "
   ]
  },
  {
   "cell_type": "code",
   "execution_count": 1,
   "metadata": {},
   "outputs": [],
   "source": [
    "from vapory import Sphere, Scene"
   ]
  },
  {
   "cell_type": "markdown",
   "metadata": {},
   "source": [
    "The next - and final - import is from the supplied `pypovray` package. This package is mainly used for loading and applying configurations for our render, choosing if we want a single image or many images for creating videos.\n",
    "\n",
    "First we import the `pypovray` and `models` **modules** from the `pypovray` **package** which are both single files containing a number of functions (in `pypovray`) and variables (in `models`) that will be explained thoughout this document."
   ]
  },
  {
   "cell_type": "code",
   "execution_count": 2,
   "metadata": {},
   "outputs": [],
   "source": [
    "from pypovray import pypovray, models"
   ]
  },
  {
   "cell_type": "markdown",
   "metadata": {},
   "source": [
    "You will notice that both `import` statements are not in the form of `import vapory` or `import pypovray` but instead they import only parts of the packages. Other examples will need to import other parts of the packages to perform more complex tasks.\n",
    "\n",
    "## Scene Setup\n",
    "\n",
    "To create a basic scene to render (not yet a simulation!) we need to add a single function that will create a *frame*. This frame can then be rendered to an *image* and multiple frames can be combined into a *movie*.\n",
    "\n",
    "This basic idea is used in all examples; each frame is always created seperately using other functions from the `pypovray` package, we can use these frames to create a movie (subject of another document).\n",
    "\n",
    "For our example we will create a function aptly called *`frame`*:"
   ]
  },
  {
   "cell_type": "code",
   "execution_count": null,
   "metadata": {
    "collapsed": true
   },
   "outputs": [],
   "source": [
    "def frame(step):\n",
    "    # Create some objects to show\n",
    "    # ...\n",
    "    # Return a Scene() for rendering\n",
    "    return Scene(some_objects)"
   ]
  },
  {
   "cell_type": "markdown",
   "metadata": {},
   "source": [
    "This function [stub](https://en.wikipedia.org/wiki/Method_stub) which doesn't do anything yet, shows that it has one argument named `step` and returns an *instance* of the previously imported `Scene` object. Anything that we would like to have rendered should be given to this `Scene` object as demonstrated below.\n",
    "\n",
    "The `step` argument indicates where in the simulation we are, this can either be a timepoint in seconds (i.e. `1.45`) or an integer defining the frame number in a simulation (i.e. `30`). For now we won't do anything with it, it will be useful later when we want to actually create a movie of our simulation.\n",
    "\n",
    "The comments describe what we should put between the function definition and its `return` statement of which we will describe the *some_objects* next. The reason that our `frame` function ends with a `return Scene()` is that at that point we have a fully constructed frame that we need to hand of to a part of the `pypovray` package that will process our frame (create output). Just remember that every function you write that creates a frame should end with returning a `Scene` object.\n",
    "\n",
    "### Scene Objects\n",
    "\n",
    "Let's first take a look at what we **must** give to the `Scene` object for each and every frame:"
   ]
  },
  {
   "cell_type": "code",
   "execution_count": null,
   "metadata": {},
   "outputs": [],
   "source": [
    "Scene( models.default_camera, objects=[models.default_light] )"
   ]
  },
  {
   "cell_type": "markdown",
   "metadata": {},
   "source": [
    "The statement above shows that we provide two arguments to the `Scene` object, a [`camera`](http://www.povray.org/documentation/view/3.7.0/246/) and a *lightsource*. These two arguments are required if we want to render anything, refer to online explaination of ray-tracing to see why (really, make sure you understand why we need those elements!).\n",
    "\n",
    "We specify the camera by using `models.default_camera` which is a predefined camera that you *can* use. Let's look at how this is defined in the [`models`](https://bitbucket.org/mkempenaar/pypovray/raw/master/pypovray/models.py) module of the `pypovray` package:"
   ]
  },
  {
   "cell_type": "code",
   "execution_count": null,
   "metadata": {
    "collapsed": true
   },
   "outputs": [],
   "source": [
    "default_camera = Camera('location', [0, 8, -26], 'look_at', [0, 2, -5])"
   ]
  },
  {
   "cell_type": "markdown",
   "metadata": {},
   "source": [
    "The `default_camera` variable stores a `Camera` object (part of the `vapory` library) and gives some cryptic looking arguments namely two strings and two lists with three elements each. We will not discuss these arguments in depth, see the [Povray Objects and Styling](http://nbviewer.jupyter.org/urls/bitbucket.org/mkempenaar/pypovray/raw/master/manual/povray_objects.ipynb) manual for further details, however the first list ('location') `[0, 14, -28]` defines the *location* of the camera in our scene which functions as the viewer's eye and the second list ('look_at') `[0, 0, -3]` specifies the *direction* the camera is facing.\n",
    "\n",
    "Each of these lists - and you'll see more examples of these very soon - always consists of three values corresponding to `x`, `y` and `z` coordinates in our scene using the [*Cartesian coordinate system*](https://en.wikipedia.org/wiki/Cartesian_coordinate_system).\n",
    "\n",
    "The second argument to the `Scene` object is in the form of `objects=[models.default_light]`; a *named argument* with **objects** as **keyword** and a `list` with an imported *light source* as **value**. \n",
    "\n",
    "The *light source* mentioned in the `objects=[]` is the other required element for a rendering as it provides the *rays* to trace and there is a predefined light available in the `models.py` module and is defined as follows:"
   ]
  },
  {
   "cell_type": "code",
   "execution_count": null,
   "metadata": {
    "collapsed": true
   },
   "outputs": [],
   "source": [
    "default_light = LightSource([2, 8, -20], 0.8)"
   ]
  },
  {
   "cell_type": "markdown",
   "metadata": {},
   "source": [
    "The `vapory LightSource` object takes a large number of arguments to define its location, color, intensity, type (i.e. spotlight, area light, point light, etc.), fade distance, etc. but we only use a subset of these to define our 'default' light.\n",
    "\n",
    "Here we specify a location using a list where `x=2`, `y=8` and `z=-20` and the *intensity* or brightness which in this case is `0.8` times the default brightness. These are values which work for our demonstration but you can experiment with different values and types yourself (or, create your own `Camera` and `LightSource` objects!).\n",
    "\n",
    "With a camera and a light in our scene, we need some object for the rays to interact with, otherwise we won't see anything. Remember that we imported a `Sphere` object from the `vapory` library that we will now add to our scene:"
   ]
  },
  {
   "cell_type": "code",
   "execution_count": null,
   "metadata": {
    "collapsed": true
   },
   "outputs": [],
   "source": [
    "sphere = Sphere([5, 2, 0], 3, models.default_sphere_model)"
   ]
  },
  {
   "cell_type": "markdown",
   "metadata": {},
   "source": [
    "Again, we pass some parameters to this object consisting of:\n",
    "* a location given a list of x, y, z coordinates (`[5, 2, 0]`),\n",
    "* an integer (`3`) defining the `Spheres` radius (half the diameter) and \n",
    "* a *model* that we get from our `models` package. \n",
    "\n",
    "Again, all locations are defined by a three-element list with the `[`<font color='red'>x</font>`,` <font color='blue'>y</font>`,` <font color='green'>z</font>`]` coordinates. In this example a `Sphere` is placed at <font color='red'>x</font> `= 5`, <font color='blue'>y</font> `= 2` and <font color='green'>z</font> `= 0`. Working with coordinates is the most important concept for this document and will be exercised in the assignments below.\n",
    "\n",
    "Next, the integer `3` is the *radius* of the `Sphere` which gives a diameter of `6` units. Now, let's take a brief look at what the imported model is from the definition in the `models.py` file:"
   ]
  },
  {
   "cell_type": "code",
   "execution_count": null,
   "metadata": {
    "collapsed": true
   },
   "outputs": [],
   "source": [
    "default_sphere_model = Texture(Pigment('color', [0.9, 0.05, 0.05], 'filter', 0.7),\n",
    "                               Finish('phong', 0.6, 'reflection', 0.4))"
   ]
  },
  {
   "cell_type": "markdown",
   "metadata": {},
   "source": [
    "For now it is **not** important to understand *any* of this code as it will all be explained later and can be viewed for reference in the [Povray Objects and Styling](http://nbviewer.jupyter.org/urls/bitbucket.org/mkempenaar/pypovray/raw/master/manual/povray_objects.ipynb) manual. That is also the reason why this (and some other) *styles* can be imported for easy use. For completeness sake though here is a short description:\n",
    "\n",
    "> This *model* defines a *Texture* that can be applied to any object (i.e. a sphere, cylinder, box, etc.). A texture is used to change the look of such an object going further than just using a different color. For instance, here we first  define a color*****, make it partly transparent (with the `filter` argument), a [`phong` highlighting](https://en.wikipedia.org/wiki/Phong_shading) and the amount of light `reflection`. \n",
    "\n",
    ">** * **Colors are defined with a three-element list specifying the [`rgb`](http://www.f-lohmueller.de/pov_tut/tex/tex_110e.htm) (red, green, blue) colors where each number ranges from `0` to `1` where `1` means `100%`. In this example the sphere will be 90% ('0.9') red mixed with 5% ('0.05') green and blue. \n",
    "\n",
    "Lets look at the `scene` function now that we have some objects to render. Note that we added the `Sphere` object stored in the `sphere` variable to the `objects` list in the `return` statement."
   ]
  },
  {
   "cell_type": "code",
   "execution_count": null,
   "metadata": {
    "collapsed": true
   },
   "outputs": [],
   "source": [
    "def frame():\n",
    "    # Create some objects to show\n",
    "    sphere = Sphere([5, 2, 0], 3, models.default_sphere_model)\n",
    "    \n",
    "    # Return the scene for rendering\n",
    "    return Scene(models.default_camera, \n",
    "                 objects=[models.default_light, sphere] )"
   ]
  },
  {
   "cell_type": "markdown",
   "metadata": {},
   "source": [
    "With our scene now defined we can perform the actual *rendering* of our image with a call to the `render_scene_to_png()` function from the `pypovray` library, see below. We provide either one or two arguments to this function:\n",
    "* *Required*: the *function* `frame` and\n",
    "* *Optional (default = 0)*: an integer (i.e. `10`) which *can* be used to specify a frame number in an animation (we do not use it here, thus it defaults to `0`),\n",
    "\n",
    "While we can ignore frame number, the first argument might look a bit odd.. Here we give the **name** of our `frame` function as an argument which is **not** the output of our function, i.e. it is not executed here! While the details of this weird behaviour is out of the scope for now (remember *how* to use it, not what it *does* internally), we give a brief example of this funny Python code below."
   ]
  },
  {
   "cell_type": "code",
   "execution_count": null,
   "metadata": {
    "collapsed": true
   },
   "outputs": [],
   "source": [
    "# Render as a single PNG image (stored in the images/ folder)\n",
    "pypovray.render_scene_to_png(frame)"
   ]
  },
  {
   "cell_type": "markdown",
   "metadata": {},
   "source": [
    "Here we define a function called `greet(message)` that always prints the given `message` and a function `evaluate(fun)` that wants a `function` *object* as argument and executes this! Again, this is purely informative and you are *not* expected to remember this."
   ]
  },
  {
   "cell_type": "code",
   "execution_count": 3,
   "metadata": {},
   "outputs": [
    {
     "name": "stdout",
     "output_type": "stream",
     "text": [
      "Hi there!\n"
     ]
    }
   ],
   "source": [
    "def greet(message):\n",
    "    print(message)\n",
    "\n",
    "def evaluate(fun):\n",
    "    fun('Hi there!')\n",
    "\n",
    "# Call 'evaluate' with \n",
    "evaluate(greet)"
   ]
  },
  {
   "cell_type": "markdown",
   "metadata": {},
   "source": [
    "The declaration of the `frame` function is all you need to render a single sphere and looks like this when rendered: <img src=\"https://bitbucket.org/mkempenaar/pypovray/raw/master/manual/files/my_first_render.png\" width=400>\n",
    "\n",
    "While not very exciting, we did render an image with **2** lines of code importing the libraries and another **2** lines of code to create our scene (create a sphere object, place it at a coordinate (as you can see, it is not centered), style the sphere and  finally returning a `Scene` object). Adding more objects only requires one line defining the object and adding it to the `objects=[]` list in the return statement.\n",
    "\n",
    "Again, notice that we didn't do anything yet with the `step` argument of our frame function, while required, this will be part of another document where we will move our sphere in some direction.\n",
    "\n",
    "### Full Example Code\n",
    "\n",
    "The script shown below is all you need to reproduce the image. Refer to the [`default.ini`](https://bitbucket.org/mkempenaar/pypovray/raw/master/default.ini) configuration file to see where the image is created and how it is named:"
   ]
  },
  {
   "cell_type": "code",
   "execution_count": null,
   "metadata": {
    "collapsed": true
   },
   "outputs": [],
   "source": [
    "#!/usr/bin/env python3\n",
    "from pypovray import pypovray, models\n",
    "from vapory import Sphere, Scene\n",
    "\n",
    "def frame(step):\n",
    "    ''' Creates a sphere and places this in a scene '''\n",
    "    sphere = Sphere([5, 2, 0], 3, models.default_sphere_model)\n",
    "\n",
    "    # Return the Scene object for rendering\n",
    "    return Scene(models.default_camera,\n",
    "                 objects=[models.default_light, sphere])\n",
    "\n",
    "if __name__ == '__main__':\n",
    "    # Render as an image\n",
    "    pypovray.render_scene_to_png(frame)"
   ]
  },
  {
   "cell_type": "markdown",
   "metadata": {},
   "source": [
    "# Assignments\n",
    "\n",
    "There are two assignments that will result in **three** Python scripts/ modules and at least **two** image files. To hand in these assignments, add these files into a **ZIP** or **.tar.gz** archive (do not use `.rar`, `.7z` or `.arj`!) and upload it to the `Deelopdracht Week 2` assesment on Blackboard.\n",
    "\n",
    "**NOTE:** Prior to starting with any of the assignments, completely study the instructions above and make sure that everything is clear! If parts are unclear, try them out in an interactive Python environment such as IDLE. \n",
    "\n",
    "## 1: Recreate the following scene\n",
    "\n",
    "Use the example code above and add objects to recreate the following scene (read the comments below the image):\n",
    "\n",
    "<img src=\"https://bitbucket.org/mkempenaar/pypovray/raw/master/manual/files/assignment1.png\" width=700>\n",
    "\n",
    "Note the following:\n",
    "* Colors do not matter for this assignment\n",
    "    * However if you really want, changing colors and other properties of objects can be done by defining your own properties. For instance instead of using the `models.default_sphere_model` you could create a new *look* yourself and use that for some objects. Take a look at the `pypovray/models.py` file for examples. Define and use your own properties as shown below:\n",
    "\n",
    "    `\n",
    "    my_model = Texture(Pigment('color', [0, 1, 1],), Finish('reflection', 0.4))\n",
    "    Sphere([0, 0, 0], 3, my_model)\n",
    "    `\n",
    "\n",
    "* Look at the [Povray Objects and Styling](http://nbviewer.jupyter.org/urls/bitbucket.org/mkempenaar/pypovray/raw/master/manual/pypovray_objects.ipynb) manual to see which types of objects you can create and how to create these.\n",
    "* The scene lighting might need some adjustments since the `models.default_light` might not be sufficient. However, as long as all objects are visible it is sufficient for this assingment.\n",
    "* You can be as creative as you'd like, adding more objects or increasing the complexity, rotating the scene etc. are all allowed as these are mainly exercises for working with the coordinate system and creating Povray objects.\n",
    "\n",
    "\n",
    "## 2: Povray coordinate system\n",
    "\n",
    "### 2A: Recreate the following scene\n",
    "\n",
    "Use the example code above and add objects to recreate the following scene:\n",
    "\n",
    "<img src=\"https://bitbucket.org/mkempenaar/pypovray/raw/master/manual/files/assignment2a.png\" width=600>\n",
    "\n",
    "What you will draw here shows the direction where the *axis* points to in the Povray 3D-coordinate system where the <font color='red'>red</font> axis shows the <font color='red'>x-axis</font>, the <font color='blue'>blue</font> axis the <font color='blue'>y-axis</font> and the <font color='green'>green</font> axis the <font color='green'>z-axis</font>. For this assignment, set the *origin* (where the three axis intersect) at `x = -15` (to the left side) and both the `y` and `z` axes to `0`. The length of the lines should be set at `5` and the *arrows* have a length of `1` (total length is thus `5`).\n",
    "\n",
    "Povray uses a left-handed 3D-coordinate system which you can represent with your *left* hand as follows: <img src=\"https://bitbucket.org/mkempenaar/pypovray/raw/master/manual/files/lefthand_coordinate.jpg\">\n",
    "\n",
    "The following text is taken from a Povray manual and might either confuse you further or make it more clear, read at your own risk:\n",
    "\n",
    ">\"Now when you do your ray-tracer's aerobics, as explained in the section [\"Understanding POV-Ray's Coordinate System\"](http://www.povray.org/documentation/view/3.6.1/15/), you use your right hand to determine the direction of rotations.\n",
    "In a two dimensional grid, x is always to the right and y is up. The two versions of handedness arise from the question of whether z points into the screen or out of it and which axis in your computer model relates to up in the real world.\n",
    "\n",
    ">Architectural CAD systems, like AutoCAD, tend to use the God's Eye orientation that the z-axis is the elevation and is the model's up direction. This approach makes sense if you are an architect looking at a building blueprint on a computer screen. z means up, and it increases towards you, with x and y still across and up the screen. This is the basic right handed system.\n",
    "\n",
    ">Stand alone rendering systems, like POV-Ray, tend to consider you as a participant. You are looking at the screen as if you were a photographer standing in the scene. The up direction in the model is now y, the same as up in the real world and x is still to the right, so z must be depth, which increases away from you into the screen. This is the basic left handed system.\"*\n",
    "\n",
    "\n",
    "### 2B: Make your Legend an *Importable Module*\n",
    "\n",
    "Adding this *legend* to other scenes can be useful when you're working with positioning objects. So for this assignment, we are going to make it *importable*, i.e. we would like to be able to do the following (the arguments given to `legend()` are explained below):"
   ]
  },
  {
   "cell_type": "code",
   "execution_count": null,
   "metadata": {
    "collapsed": true
   },
   "outputs": [],
   "source": [
    "from assignment2a import legend\n",
    "\n",
    "def frame(step):\n",
    "    # ... some code creating objects ...\n",
    "    # Create our legend object\n",
    "    xyz_legend = legend([-15, 0, 0], 5)\n",
    "    # Return the scene for rendering, including a 'legend'\n",
    "    return Scene(models.default_camera, \n",
    "                 objects=[models.default_light, sphere] + xyz_legend )\n"
   ]
  },
  {
   "cell_type": "markdown",
   "metadata": {},
   "source": [
    "To do this, take your code that draws the **Cylinders** and the **Cones** that you used for **2A** and place it within the following template at the indicated places and use the pre-calculated coordinates given in this template. Save this file as `assignment2a.py`."
   ]
  },
  {
   "cell_type": "code",
   "execution_count": null,
   "metadata": {
    "collapsed": true
   },
   "outputs": [],
   "source": [
    "#!/usr/bin/env python\n",
    "\n",
    "\"\"\"\n",
    "Assignment 2 Template script\n",
    "----------------------------\n",
    "\n",
    "This template contains a single function ('legend') that needs to be completed\n",
    "to make an importable legend for use in other programs.\n",
    "\n",
    "* Write the function docstring explaining what it does and its arguments\n",
    "* Fill in the two dictionaries ('cylinders' and 'cones')\n",
    "\n",
    "This function stores all objects to render in dictionaries, try to understand\n",
    "the code in this template:\n",
    "    * open an Idle or interactive Python session\n",
    "    * create a 'start_position' list with values [0, 10, 20]\n",
    "    * copy/ paste code from the template into IDle to see its effects\n",
    "    * print/ inspect contents of the 'cylinder_coords' and 'cones_coords_*' dictionaries\n",
    "    * experiment with any other unclear statements\n",
    "\n",
    "\"\"\"\n",
    "\n",
    "from vapory import Cylinder, Cone, Pigment, Texture, Finish\n",
    "\n",
    "\n",
    "def legend(start_position, axis_length):\n",
    "    \"\"\" Function docstring ... \"\"\"\n",
    "\n",
    "    # Reduce the AXIS_LENGTH by the length of the Cone (1) so that\n",
    "    # the total length is exactly the AXIS_LENGTH\n",
    "    axis_length -= 1\n",
    "\n",
    "    # Initialize the Cylinder END-position to a COPY of the start position\n",
    "    cylinder_coords_end = {\n",
    "        'x': list(start_position),\n",
    "        'y': list(start_position),\n",
    "        'z': list(start_position)\n",
    "    }\n",
    "\n",
    "    # Add the AXIS_LENGTHs to the corresponding coordinate\n",
    "    cylinder_coords_end['x'][0] += axis_length\n",
    "    cylinder_coords_end['y'][1] += axis_length\n",
    "    cylinder_coords_end['z'][2] += axis_length\n",
    "\n",
    "    ''' CREATE THE CYLINDERS'''\n",
    "    cylinders = {\n",
    "        'x': None,\n",
    "        'y': None,\n",
    "        'z': None\n",
    "    }\n",
    "\n",
    "    # Cone START is the same as the Cylinder END, so we COPY these lists\n",
    "    cones_coords_start = {\n",
    "        'x': list(cylinder_coords_end['x']),\n",
    "        'y': list(cylinder_coords_end['y']),\n",
    "        'z': list(cylinder_coords_end['z'])\n",
    "    }\n",
    "\n",
    "    # Copy the START as END coordinate\n",
    "    cones_coords_end = {\n",
    "        'x': list(cones_coords_start['x']),\n",
    "        'y': list(cones_coords_start['y']),\n",
    "        'z': list(cones_coords_start['z'])\n",
    "    }\n",
    "\n",
    "    # Extend the tip of the cones with length 1\n",
    "    cones_coords_end['x'][0] += 1\n",
    "    cones_coords_end['y'][1] += 1\n",
    "    cones_coords_end['z'][2] += 1\n",
    "\n",
    "    ''' CREATE THE CONES '''\n",
    "    cones = {\n",
    "        'x': None,\n",
    "        'y': None,\n",
    "        'z': None\n",
    "    }\n",
    "\n",
    "    # Add ALL objects to a LIST and return\n",
    "    legend_objects = list(cylinders.values()) + list(cones.values())\n",
    "\n",
    "    return legend_objects\n"
   ]
  },
  {
   "cell_type": "markdown",
   "metadata": {},
   "source": [
    "This template contains a function called `legend` which takes two parameters. The `start_position` is a simple 3-element list with the `x`, `y` and `z` coordinates indicating where we want to place the legend. The `axis_length` parameter defines the *length* of the legend-lines. You can see in the code that we use these to calculate where each `Cylinder` and `Cone` starts and ends.\n",
    "\n",
    "Note though that we do a lot of *list-copying* using the `list()` function. We won't be going to explain that here, but consider (and try!) the following code example:"
   ]
  },
  {
   "cell_type": "code",
   "execution_count": 4,
   "metadata": {},
   "outputs": [
    {
     "name": "stdout",
     "output_type": "stream",
     "text": [
      "[0, 20, 100] [0, 20, 100]\n"
     ]
    }
   ],
   "source": [
    "# Create a list\n",
    "list_a = [0, 10, 100]\n",
    "# Assign 'list_a' to 'list_b'\n",
    "list_b = list_a\n",
    "# Add 10 to the second element in 'list_b'\n",
    "list_b[1] += 10\n",
    "# Print both lists and be confused.\n",
    "print(list_a, list_b)"
   ]
  },
  {
   "cell_type": "markdown",
   "metadata": {},
   "source": [
    "Now we can import the legend and show it in our other scenes by adding it to our `objects=[]` in the `Scene()` function call as shown before. Consider the following code example to understand why we do\n",
    "\n",
    "    Scene(..., objects=[light, sphere] + xyz_legend)\n",
    "\n",
    "instead of\n",
    "\n",
    "    Scene(..., objects=[light, sphere, xyz_legend])"
   ]
  },
  {
   "cell_type": "code",
   "execution_count": 5,
   "metadata": {},
   "outputs": [
    {
     "name": "stdout",
     "output_type": "stream",
     "text": [
      "Comma: [10, [100, 1000]]\n",
      "Addition: [10, 100, 1000]\n"
     ]
    }
   ],
   "source": [
    "list_a = [100, 1000]\n",
    "\n",
    "# Append using a comma\n",
    "objects = [10, list_a]\n",
    "print('Comma:', objects)\n",
    "\n",
    "# Append by addition\n",
    "objects = [10] + list_a\n",
    "print('Addition:', objects)"
   ]
  },
  {
   "cell_type": "markdown",
   "metadata": {},
   "source": [
    "Can you spot the difference?\n",
    "\n",
    "Now try to add your legend to your own scene created in assignment 1 to get something like the image below. With the legend in our view we can more easily position objects since we can see where all the axes are pointing at. For instance, we see that if we want to move everything closer to the camera we need to **reduce** the z-value since the axis points away from us (positive z). Remember that we called the `legend` function with\n",
    "\n",
    "    legend([-15, 0, 0], 5)\n",
    "\n",
    "so we know that all drawn axes have a length of `5` which also helps with scaling and positioning objects since Povray uses an arbitrary unit length (it's not defined as *pixels* or *centimeters* etc.).\n",
    "\n",
    "<img src=\"https://bitbucket.org/mkempenaar/pypovray/raw/master/manual/files/assignment2b.png\" width=700>"
   ]
  }
 ],
 "metadata": {
  "kernelspec": {
   "display_name": "Python 3",
   "language": "python",
   "name": "python3"
  },
  "language_info": {
   "codemirror_mode": {
    "name": "ipython",
    "version": 3
   },
   "file_extension": ".py",
   "mimetype": "text/x-python",
   "name": "python",
   "nbconvert_exporter": "python",
   "pygments_lexer": "ipython3",
   "version": "3.6.5"
  }
 },
 "nbformat": 4,
 "nbformat_minor": 1
}
