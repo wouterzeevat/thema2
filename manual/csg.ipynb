{
 "cells": [
  {
   "cell_type": "markdown",
   "metadata": {},
   "source": [
    "# Constructive Solid Geometry\n",
    "\n",
    "*Constructive Solid Geometry*, or **CSG**, is a powerful tool to combine primitive objects to create more complex objects as shown in the following sections.\n",
    "\n",
    "## Union\n",
    "\n",
    "\n",
    "## Intersection\n",
    "\n",
    "\n",
    "## Difference\n",
    "\n",
    "\n",
    "## Merge\n",
    "\n",
    "\n",
    "[Examples](http://wiki.povray.org/content/HowTo:Use_constructive_solid_geometry)"
   ]
  }
 ],
 "metadata": {
  "kernelspec": {
   "display_name": "Python 3",
   "language": "python",
   "name": "python3"
  },
  "language_info": {
   "codemirror_mode": {
    "name": "ipython",
    "version": 3
   },
   "file_extension": ".py",
   "mimetype": "text/x-python",
   "name": "python",
   "nbconvert_exporter": "python",
   "pygments_lexer": "ipython3",
   "version": "3.5.0"
  }
 },
 "nbformat": 4,
 "nbformat_minor": 1
}
